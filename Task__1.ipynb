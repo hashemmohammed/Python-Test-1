{
 "cells": [
  {
   "cell_type": "code",
   "execution_count": 27,
   "id": "c6690ea4-06ab-4483-a9ca-b33c93f9a1e3",
   "metadata": {
    "scrolled": true
   },
   "outputs": [
    {
     "name": "stdout",
     "output_type": "stream",
     "text": [
      "It's a cold day. Stay warm!\n"
     ]
    }
   ],
   "source": [
    "temperature =4\n",
    "if temperature >= 30:\n",
    "    print(\"It's a hot day. Stay hydrated!\")\n",
    "elif 20 <= temperature <= 29:\n",
    "    print(\"It's a warm day. Enjoy the weather!\")\n",
    "elif 10 <= temperature <= 19:\n",
    "    print(\"It's a cool day. Wear a jacket!\")\n",
    "else:\n",
    "    print(\"It's a cold day. Stay warm!\")"
   ]
  },
  {
   "cell_type": "code",
   "execution_count": 31,
   "id": "056a1a55-3f98-4ce3-a024-c332b1365387",
   "metadata": {},
   "outputs": [
    {
     "name": "stdout",
     "output_type": "stream",
     "text": [
      "x divisible by 3: [0]\n",
      "x divisible by 3: [0, 3]\n",
      "x divisible by 3: [0, 3, 6]\n",
      "x divisible by 3: [0, 3, 6, 9]\n",
      "x divisible by 3: [0, 3, 6, 9, 12]\n",
      "x divisible by 3: [0, 3, 6, 9, 12, 15]\n",
      "x divisible by 3: [0, 3, 6, 9, 12, 15, 18]\n"
     ]
    }
   ],
   "source": [
    "x = list(range(0, 21))\n",
    "divisible_by_3 = []\n",
    "for y in x:\n",
    "    if y % 3 == 0:\n",
    "        divisible_by_3.append(y)\n",
    "        print(\"x divisible by 3:\", divisible_by_3)"
   ]
  },
  {
   "cell_type": "code",
   "execution_count": null,
   "id": "3cac8f34-5d8c-4cc7-b2aa-b2b2414d8d88",
   "metadata": {},
   "outputs": [],
   "source": []
  }
 ],
 "metadata": {
  "kernelspec": {
   "name": "python3"
  },
  "language_info": {
   "codemirror_mode": {
    "name": "ipython",
    "version": 3
   },
   "file_extension": ".py",
   "mimetype": "text/x-python",
   "name": "python",
   "nbconvert_exporter": "python",
   "pygments_lexer": "ipython3",
   "version": "3.12.7"
  }
 },
 "nbformat": 4,
 "nbformat_minor": 5
}
